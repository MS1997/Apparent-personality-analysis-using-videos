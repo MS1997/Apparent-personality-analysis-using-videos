{
  "nbformat": 4,
  "nbformat_minor": 0,
  "metadata": {
    "colab": {
      "name": "Extracting Visual features.ipynb",
      "provenance": [],
      "collapsed_sections": [],
      "authorship_tag": "ABX9TyMmgPpqq7AhYJRut3vAzAmm",
      "include_colab_link": true
    },
    "kernelspec": {
      "name": "python3",
      "display_name": "Python 3"
    }
  },
  "cells": [
    {
      "cell_type": "markdown",
      "metadata": {
        "id": "view-in-github",
        "colab_type": "text"
      },
      "source": [
        "<a href=\"https://colab.research.google.com/github/MS1997/Apparent-personality-analysis-using-videos/blob/master/Extracting_Visual_features.ipynb\" target=\"_parent\"><img src=\"https://colab.research.google.com/assets/colab-badge.svg\" alt=\"Open In Colab\"/></a>"
      ]
    },
    {
      "cell_type": "code",
      "metadata": {
        "id": "6pbDlZirwDb0",
        "colab_type": "code",
        "colab": {}
      },
      "source": [
        "# importing the required packages \n",
        "import cv2 \n",
        "from zipfile import ZipFile\n",
        "import shutil\n",
        "import os\n",
        "import pandas as pd\n",
        "import numpy as np\n",
        "import matplotlib.pyplot as plt\n",
        "import seaborn as sns"
      ],
      "execution_count": null,
      "outputs": []
    },
    {
      "cell_type": "code",
      "metadata": {
        "id": "WigO9st_wGPH",
        "colab_type": "code",
        "colab": {}
      },
      "source": [
        "# mounting the drive\n",
        "from google.colab import drive\n",
        "drive.mount('/content/gdrive')"
      ],
      "execution_count": null,
      "outputs": []
    },
    {
      "cell_type": "code",
      "metadata": {
        "id": "fC6fGUFYn6Rk",
        "colab_type": "code",
        "colab": {}
      },
      "source": [
        "# unzip folders containing the data from the drive "
      ],
      "execution_count": null,
      "outputs": []
    },
    {
      "cell_type": "code",
      "metadata": {
        "id": "eEpee5ATxVy2",
        "colab_type": "code",
        "colab": {}
      },
      "source": [
        "# ************ Extracting training videos ************  \n",
        "# l is list of  the folder numbers inside the training data folders \n",
        "f1 = 1 # lowest folder number \n",
        "f2 = 13 # highest folder number + 1\n",
        "l = list(map(str,range(f1,f2)))\n",
        "for i in l:\n",
        "  file_name = 'training80_'+i+'.zip'\n",
        "  folder_to_extract = 'training80_'+i\n",
        "  print(folder_to_extract)\n",
        "  # make directory of the same name \n",
        "  os.mkdir(folder_to_extract)\n",
        "\n",
        "  zf = ZipFile(file_name, 'r')\n",
        "  zf.extractall(folder_to_extract)\n",
        "  zf.close()\n",
        "\n",
        "  # delete orginal folder\n",
        "  os.remove(file_name)\n",
        "\n"
      ],
      "execution_count": null,
      "outputs": []
    },
    {
      "cell_type": "code",
      "metadata": {
        "id": "1fzd2EmM0l-j",
        "colab_type": "code",
        "colab": {}
      },
      "source": [
        "# ************ Extracting validation videos ************ \n",
        "# l is list of  the folder numbers inside the validation data folders \n",
        "f1 = 1 # lowest folder number \n",
        "f2 = 13 # highest folder number + 1\n",
        "l_1 = list(map(str,range(f1,f2)))\n",
        "for i in l_1:\n",
        "  file_name = 'validation80_'+i+'.zip'\n",
        "  folder_to_extract = 'validation80_'+i\n",
        "  print(folder_to_extract)\n",
        "  #make directory of the same name \n",
        "  os.mkdir(folder_to_extract)\n",
        "\n",
        "  zf = ZipFile(file_name, 'r')\n",
        "  zf.extractall(folder_to_extract)\n",
        "  zf.close()\n",
        "\n",
        "  #delete orginal folder\n",
        "  os.remove(file_name)\n"
      ],
      "execution_count": null,
      "outputs": []
    },
    {
      "cell_type": "code",
      "metadata": {
        "id": "cClbgqoBpfld",
        "colab_type": "code",
        "colab": {}
      },
      "source": [
        "# To get the test files a password is required which is given on the first impressions challenge website \n",
        "# and the same code can be used to extract the test videos "
      ],
      "execution_count": null,
      "outputs": []
    },
    {
      "cell_type": "code",
      "metadata": {
        "id": "lQl-9-1n08mK",
        "colab_type": "code",
        "colab": {}
      },
      "source": [
        "count = 0\n",
        "# getting the total number of videos in the training data folder  \n",
        "for i in l:\n",
        "  folder_name = 'training80_'+i # Change here for validation, test sets\n",
        "  count += len(os.listdir(folder_name))\n",
        "print('total training video files are: ',count)"
      ],
      "execution_count": null,
      "outputs": []
    },
    {
      "cell_type": "code",
      "metadata": {
        "id": "qSUP3stwx23X",
        "colab_type": "code",
        "colab": {}
      },
      "source": [
        "# lets look at the avg length of the videos \n",
        "\n",
        "def count_frames(path):\n",
        "  video = cv2.VideoCapture(path)\n",
        "  total = int(video.get(cv2.CAP_PROP_FRAME_COUNT))\n",
        "  rate = video.get(cv2.CAP_PROP_FPS)\n",
        "  return total, rate"
      ],
      "execution_count": null,
      "outputs": []
    },
    {
      "cell_type": "code",
      "metadata": {
        "id": "qmD868fb3rCw",
        "colab_type": "code",
        "colab": {}
      },
      "source": [
        "for i in l:\n",
        "  total_time = 0\n",
        "  folder_name = 'training80_'+i # Change here for validation, test sets\n",
        "  for j in os.listdir(folder_name):\n",
        "    path = folder_name+'/'+j\n",
        "    total, rate = count_frames(path)\n",
        "    time = total / rate \n",
        "    total_time += time\n",
        "  print(f'Avg length of videos in folder {folder_name} is {total_time/len(os.listdir(folder_name))} secs')\n"
      ],
      "execution_count": null,
      "outputs": []
    },
    {
      "cell_type": "code",
      "metadata": {
        "id": "bjyx6rjW6IcQ",
        "colab_type": "code",
        "colab": {}
      },
      "source": [
        "# Check if videos are in RGB format \n",
        "# cv2.CAP_PROP_CONVERT_RGB is a booloean flag indicating if the videos need to be converted to RGB or not i.e. False/ 0 = no need to convert \n",
        "\n",
        "# Loop through all video files and see if any video needs to be converted i.e. its not in RGB format \n",
        "for i in l:\n",
        "  total_time = 0\n",
        "  folder_name = 'training80_'+i # Change here for validation, test sets\n",
        "  print('Entering folder ',folder_name)\n",
        "  for j in os.listdir(folder_name):\n",
        "    path = folder_name+'/'+j\n",
        "    video = cv2.VideoCapture(path)\n",
        "    rgb_flg = video.get(cv2.CAP_PROP_CONVERT_RGB)\n",
        "\n",
        "    if rgb_flg == True:\n",
        "      print(path, 'Needs to be converted') \n",
        "      \n",
        "# All flags were false hence no need to convert "
      ],
      "execution_count": null,
      "outputs": []
    },
    {
      "cell_type": "code",
      "metadata": {
        "id": "PI6LgcqIDLOC",
        "colab_type": "code",
        "colab": {}
      },
      "source": [
        "# function to extract 15 frames from each video and store it in a folder \n",
        "\n",
        "def extract_frames(path, flag = 'train'):\n",
        "\n",
        "  name = path.split('/')[1]\n",
        "  file_name = name.split('.mp4')[0]\n",
        "  cap = cv2.VideoCapture(path)\n",
        "\n",
        "  # make folder to save extracted frames \n",
        "  try:\n",
        "    if flag == 'validation':\n",
        "      path_ = 'val_frames/'\n",
        "      os.makedirs(path_ + file_name)\n",
        "    elif flag == 'test':\n",
        "      path_ = 'test_frames/'\n",
        "      os.makedirs(path_ + file_name)\n",
        "    else:\n",
        "      path_ = 'frames/'\n",
        "      os.makedirs(path_ + file_name)\n",
        "  except FileExistsError:\n",
        "    print('Folder already exists')\n",
        "\n",
        "  # counter variable \n",
        "  count =0 \n",
        "  # flag for knowing if frames were successfully extracted \n",
        "  success = 1\n",
        "\n",
        "  total_frames = cap.get(cv2.CAP_PROP_FRAME_COUNT)\n",
        "\n",
        "  # set frame limit to 100 using cap.set() which sets the camera parameters \n",
        "  cap.set(cv2.CAP_PROP_FRAME_COUNT, 16) # starts count from 1 not 0 hence, 16 not 15\n",
        "\n",
        "\n",
        "  while success:\n",
        "    count +=1\n",
        "\n",
        "    if count >= total_frames or count == 16:\n",
        "      break\n",
        "\n",
        "    success, frame = cap.read()\n",
        "    # resizing frame to save space  and also for modelling\n",
        "    frame = cv2.resize(frame,(150, 150), interpolation= cv2.INTER_AREA)  # cv2.INTER_AREA good for shrinking images \n",
        "    # interpolation is used to estimate the values of the unknown pixels, bicubic interpolation uses 4X4  pixels \n",
        "    # i.e. it uses weighed average of 16 pixels, unknown pixels can be at different distances. it gives higher weight to closer pixels. \n",
        "    \n",
        "    # save the frame\n",
        "    frame_path = path_ + file_name + '/' + file_name +'_' +str(count) + '.jpg'\n",
        "    \n",
        "    cv2.imwrite(frame_path, frame)\n",
        "\n",
        "    if cv2.waitKey(1) & 0xFF == ord('q'): # give the user one millisecond to press 'q' key to abort\n",
        "      break\n",
        "  \n",
        "  cap.release()"
      ],
      "execution_count": null,
      "outputs": []
    },
    {
      "cell_type": "code",
      "metadata": {
        "id": "tpCbGg2xHjfa",
        "colab_type": "code",
        "colab": {}
      },
      "source": [
        "# ************* Extracting frames from Train Videos ******************\n",
        "try:\n",
        "  os.makedirs('frames') # This folder will contain the folders for each video which will contain 15 frames for that video \n",
        "except FileExistsError:\n",
        "    print('Frames Folder already exists')\n",
        "\n",
        "# loop to extract the frames \n",
        "for i in l:\n",
        "  folder_name = 'training80_'+i\n",
        "  print('Entering folder ',folder_name)\n",
        "\n",
        "  for j in os.listdir(folder_name):\n",
        "    path = folder_name+'/'+j\n",
        "    extract_frames(path)\n"
      ],
      "execution_count": null,
      "outputs": []
    },
    {
      "cell_type": "code",
      "metadata": {
        "id": "0MbI5CMZ1muN",
        "colab_type": "code",
        "colab": {}
      },
      "source": [
        "# ************* Extracting frames from Validation Videos ******************\n",
        "try:\n",
        "  os.makedirs('val_frames') # This folder will contain the folders for each video which will contain 15 frames for that video \n",
        "except FileExistsError:\n",
        "    print('Validation Frames Folder already exists')\n",
        "\n",
        "# loop to extract the frames \n",
        "for i in l:\n",
        "  folder_name = 'validation80_'+i\n",
        "  print('Entering folder ',folder_name)\n",
        "\n",
        "  for j in os.listdir(folder_name):\n",
        "    path = folder_name+'/'+j\n",
        "    extract_frames(path, flag = 'validation')"
      ],
      "execution_count": null,
      "outputs": []
    },
    {
      "cell_type": "code",
      "metadata": {
        "id": "-hdJ5368TXvD",
        "colab_type": "code",
        "colab": {}
      },
      "source": [
        "# ************* Extracting frames from Test Videos ******************\n",
        "try:\n",
        "  os.makedirs('test_frames') # This folder will contain the folders for each video which will contain 15 frames for that video \n",
        "except FileExistsError:\n",
        "    print('Test Frames Folder already exists')\n",
        "\n",
        "count = 0\n",
        "for j in os.listdir('test'):\n",
        "  path = 'test'+'/'+j\n",
        "  extract_frames(path, flag = 'test')\n",
        "\n",
        "  count +=1\n",
        "  if count %10 ==0:\n",
        "    print(count)"
      ],
      "execution_count": null,
      "outputs": []
    },
    {
      "cell_type": "code",
      "metadata": {
        "id": "UK9ZGgBsfbk9",
        "colab_type": "code",
        "colab": {}
      },
      "source": [
        "!zip -r gdrive/'My Drive'/frames_1.zip frames # zip the folder containing the frames and store it on the drive"
      ],
      "execution_count": null,
      "outputs": []
    }
  ]
}