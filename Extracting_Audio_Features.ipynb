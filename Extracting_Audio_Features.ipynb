{
  "nbformat": 4,
  "nbformat_minor": 0,
  "metadata": {
    "colab": {
      "name": "Extracting Audio Features.ipynb",
      "provenance": [],
      "collapsed_sections": [],
      "authorship_tag": "ABX9TyNnt47g9VoaF+S2gpREK3bC",
      "include_colab_link": true
    },
    "kernelspec": {
      "name": "python3",
      "display_name": "Python 3"
    }
  },
  "cells": [
    {
      "cell_type": "markdown",
      "metadata": {
        "id": "view-in-github",
        "colab_type": "text"
      },
      "source": [
        "<a href=\"https://colab.research.google.com/github/MS1997/Apparent-personality-analysis-using-videos/blob/master/Extracting_Audio_Features.ipynb\" target=\"_parent\"><img src=\"https://colab.research.google.com/assets/colab-badge.svg\" alt=\"Open In Colab\"/></a>"
      ]
    },
    {
      "cell_type": "code",
      "metadata": {
        "id": "dBmohrKp72VW",
        "colab_type": "code",
        "colab": {}
      },
      "source": [
        "# Importing the required packages \n",
        "from zipfile import ZipFile\n",
        "import shutil\n",
        "import os\n",
        "import subprocess"
      ],
      "execution_count": null,
      "outputs": []
    },
    {
      "cell_type": "code",
      "metadata": {
        "id": "-2quTZ4o8TRp",
        "colab_type": "code",
        "colab": {}
      },
      "source": [
        "# Mounting the drive\n",
        "from google.colab import drive\n",
        "drive.mount('/content/gdrive')"
      ],
      "execution_count": null,
      "outputs": []
    },
    {
      "cell_type": "code",
      "metadata": {
        "id": "KPto07-G8Xvi",
        "colab_type": "code",
        "colab": {}
      },
      "source": [
        "# unzip folders containing the data from the drive then proceed "
      ],
      "execution_count": null,
      "outputs": []
    },
    {
      "cell_type": "code",
      "metadata": {
        "id": "9F0lZVEd8N5N",
        "colab_type": "code",
        "colab": {}
      },
      "source": [
        "# ************ Extracting training videos ************  \n",
        "# l is list of  the folder numbers inside the training data folders \n",
        "f1 = 1 # lowest folder number \n",
        "f2 = 13 # highest folder number + 1\n",
        "l = list(map(str,range(f1,f2)))\n",
        "for i in l:\n",
        "  file_name = 'training80_'+i+'.zip'\n",
        "  folder_to_extract = 'training80_'+i\n",
        "  print(folder_to_extract)\n",
        "  # make directory of the same name \n",
        "  os.mkdir(folder_to_extract)\n",
        "\n",
        "  zf = ZipFile(file_name, 'r')\n",
        "  zf.extractall(folder_to_extract)\n",
        "  zf.close()\n",
        "\n",
        "  # delete orginal folder\n",
        "  os.remove(file_name)\n",
        "\n"
      ],
      "execution_count": null,
      "outputs": []
    },
    {
      "cell_type": "code",
      "metadata": {
        "id": "ykka9htSJPHM",
        "colab_type": "code",
        "colab": {}
      },
      "source": [
        "# ************ Extracting validation videos ************ \n",
        "# l is list of  the folder numbers inside the validation data folders \n",
        "f1 = 1 # lowest folder number \n",
        "f2 = 13 # highest folder number + 1\n",
        "l_1 = list(map(str,range(f1,f2)))\n",
        "for i in l_1:\n",
        "  file_name = 'validation80_'+i+'.zip'\n",
        "  folder_to_extract = 'validation80_'+i\n",
        "  print(folder_to_extract)\n",
        "  # make directory of the same name \n",
        "  os.mkdir(folder_to_extract)\n",
        "\n",
        "  zf = ZipFile(file_name, 'r')\n",
        "  zf.extractall(folder_to_extract)\n",
        "  zf.close()\n",
        "\n",
        "  # delete orginal folder\n",
        "  os.remove(file_name)"
      ],
      "execution_count": null,
      "outputs": []
    },
    {
      "cell_type": "markdown",
      "metadata": {
        "id": "z1mkltKyzzjg",
        "colab_type": "text"
      },
      "source": [
        "To get the test files a password is required which is given on the first impressions challenge website and the same code can be used to extract the test videos."
      ]
    },
    {
      "cell_type": "code",
      "metadata": {
        "id": "giiycJzt-Eo-",
        "colab_type": "code",
        "colab": {}
      },
      "source": [
        "# Function to extract waveform audio from the video \n",
        "def extract_audio(video_path):\n",
        "  path = video_path\n",
        "  name = path.split('/')[1]\n",
        "  file_name = name.split('.mp4')[0]\n",
        "  command = f'ffmpeg -i {video_path} -ab 160k -ac 2 -ar 44100 -vn voice_data/{file_name}.wav'\n",
        "  subprocess.call(command,shell=True)"
      ],
      "execution_count": null,
      "outputs": []
    },
    {
      "cell_type": "code",
      "metadata": {
        "id": "sSUQVIO_-4Am",
        "colab_type": "code",
        "colab": {}
      },
      "source": [
        "try:\n",
        "  os.makedirs('voice_data') \n",
        "except FileExistsError:\n",
        "    print('Voice data Folder already exists')\n",
        "\n",
        "# loop to extract the audio\n",
        "for i in l:\n",
        "  folder_name = 'Training80_'+i # Change here for validation, test sets\n",
        "  print('Entering folder ',folder_name)\n",
        "\n",
        "  for j in os.listdir(folder_name):\n",
        "    path = folder_name+'/'+j\n",
        "    extract_audio(path)"
      ],
      "execution_count": null,
      "outputs": []
    },
    {
      "cell_type": "markdown",
      "metadata": {
        "id": "d3hpmQvGyN6N",
        "colab_type": "text"
      },
      "source": [
        "The following are the steps to clone the pyAudioAnalysis open source library in colab. "
      ]
    },
    {
      "cell_type": "code",
      "metadata": {
        "id": "0ZRgkPqzwiCn",
        "colab_type": "code",
        "colab": {}
      },
      "source": [
        "# These need to be run to prevent installation errors on colab \n",
        "!sudo apt-get install ffmpeg\n",
        "!sudo apt-get install python3-magic\n",
        "!pip install python-magic"
      ],
      "execution_count": null,
      "outputs": []
    },
    {
      "cell_type": "code",
      "metadata": {
        "id": "up6dkkt0fFL9",
        "colab_type": "code",
        "colab": {}
      },
      "source": [
        "# Cloning the repository \n",
        "!git clone https://github.com/tyiannak/pyAudioAnalysis.git"
      ],
      "execution_count": null,
      "outputs": []
    },
    {
      "cell_type": "code",
      "metadata": {
        "id": "jENRFtfy9C46",
        "colab_type": "code",
        "colab": {}
      },
      "source": [
        "# Install the requirements \n",
        "pip install -r /content/pyAudioAnalysis/requirements.txt"
      ],
      "execution_count": null,
      "outputs": []
    },
    {
      "cell_type": "code",
      "metadata": {
        "id": "Y1wo8ZzX-KsE",
        "colab_type": "code",
        "colab": {}
      },
      "source": [
        "# Change directory and run the set up file \n",
        "os.chdir('/content/pyAudioAnalysis')\n",
        "!pip install -e ."
      ],
      "execution_count": null,
      "outputs": []
    },
    {
      "cell_type": "code",
      "metadata": {
        "id": "KP0LLJwV-XgG",
        "colab_type": "code",
        "colab": {}
      },
      "source": [
        "# Come outside the directory \n",
        "os.chdir('../')\n",
        "os.getcwd()"
      ],
      "execution_count": null,
      "outputs": []
    },
    {
      "cell_type": "code",
      "metadata": {
        "id": "XMtfjeJrg1QK",
        "colab_type": "code",
        "colab": {}
      },
      "source": [
        "# Running the audioAnalysis.py file as a subprocess to extract features from the Audio \n",
        "count = 0\n",
        "for i in os.listdir('/content/voice_data'):\n",
        "  if count%5 ==0:\n",
        "    print('audio number: ',count)\n",
        "  file_path = '/content/voice_data/' + i\n",
        "  output_path =  '/content/output/' + i\n",
        "  command =  f'python3 /content/pyAudioAnalysis/pyAudioAnalysis/audioAnalysis.py featureExtractionFile -i {file_path} -mw 1.0 -ms 1.0 -sw 1.0 -ss 1.0 -o {output_path}'\n",
        "  subprocess.call(command, shell = True)\n",
        "  count +=1"
      ],
      "execution_count": null,
      "outputs": []
    },
    {
      "cell_type": "code",
      "metadata": {
        "id": "InDiSHrTuxG-",
        "colab_type": "code",
        "colab": {}
      },
      "source": [
        "# Removing the numpy files \n",
        "for i in os.listdir('output'):\n",
        "  if i.endswith('.npy'):\n",
        "    os.remove('output/'+i)"
      ],
      "execution_count": null,
      "outputs": []
    },
    {
      "cell_type": "code",
      "metadata": {
        "id": "2J2HBwn4vNGl",
        "colab_type": "code",
        "colab": {}
      },
      "source": [
        "!zip -r gdrive/'My Drive'/aud_feat.zip output # zip the folder containing the csv files of the audio features and store it on the drive"
      ],
      "execution_count": null,
      "outputs": []
    },
    {
      "cell_type": "markdown",
      "metadata": {
        "id": "isWey3q2znOZ",
        "colab_type": "text"
      },
      "source": [
        "The same steps can be followed for extracting audio features for the validation and test sets. "
      ]
    }
  ]
}